{
 "cells": [
  {
   "cell_type": "code",
   "execution_count": 289,
   "metadata": {
    "collapsed": false,
    "deletable": true,
    "editable": true
   },
   "outputs": [
    {
     "name": "stdout",
     "output_type": "stream",
     "text": [
      "Populating the interactive namespace from numpy and matplotlib\n"
     ]
    }
   ],
   "source": [
    "%pylab inline\n",
    "import numpy as np\n",
    "import pandas as pd\n",
    "\n",
    "from sklearn.datasets import load_iris\n",
    "from sklearn.preprocessing import StandardScaler, MinMaxScaler, Normalizer\n",
    "from sklearn.feature_selection import VarianceThreshold, chi2\n",
    "from scipy.stats import chisquare\n",
    "\n",
    "from IPython.display import display"
   ]
  },
  {
   "cell_type": "markdown",
   "metadata": {
    "deletable": true,
    "editable": true
   },
   "source": [
    "# Installing Scikit-Feature \n",
    "\n",
    "http://featureselection.asu.edu/index.php\n",
    "\n",
    "```\n",
    "unzip scikit-feature-1.0.0.zip\n",
    "cd scikit-feature-1.0.0\n",
    "sudo python3.6 setup.py install\n",
    "```"
   ]
  },
  {
   "cell_type": "markdown",
   "metadata": {},
   "source": [
    "# Prerequisite\n",
    "\n",
    "### Population and Sample\n",
    "\n",
    "| 용어 | 한국말 | 의미 | 예제 |\n",
    "|:----|:-----|:-----|:----|\n",
    "| population | 모집단 | 전체 집단을 의미. | 30대 전체 한국 남성 |\n",
    "| parameter | 모수 | 전체 population에 대한 summary number를 의미 | 30대 전체 한국 남성의 평균 몸무게 <br> mean $ \\mu $, variance $  \\sigma^2 $, std $ \\sigma $ | \n",
    "| sample | 표본 | population으로부터 추출된 population을 대표하는 부분집합 | 30대 전체 한국 남성중 랜덤으로 선택된 100명 |\n",
    "| statistic | 통계치 | sample에 대한 summary number | mean $ \\bar{x} $, variance $ s^2 $, std $ s $|\n",
    "\n"
   ]
  },
  {
   "cell_type": "markdown",
   "metadata": {},
   "source": [
    "### Confidency Interval"
   ]
  },
  {
   "cell_type": "markdown",
   "metadata": {
    "deletable": true,
    "editable": true
   },
   "source": [
    "# Low Variance Filter\n",
    "\n",
    "가장 쉽게 접근할수 있으며, 모델에 영향력을 갖고 있지 않는 데이터들을 빠르게 제거할 수 있는 방법입니다.<br>\n",
    "VarianceThreshold는 지속적으로 zero-variance features 그리고 지속적으로 동일한 값을 내놓은 features들을 제거합니다.\n",
    "\n",
    "### Example) Low variance for Bernoulli Distribution\n",
    "\n",
    "boolean 데이터에 대해서 feature selection을 하려고 합니다. <br>\n",
    "Success(True) 또는 Failure(False)같이 2개로만 나눠지는 경우 **Bernoulli Distribution**을 따릅니다. <br>\n",
    "\n",
    "성공(True)값은 $ p $ 로 나타내며, 실패(False)는 $ 1 - p $ 로 정의를 합니다.<br>\n",
    "Bernoulli Random Variable의 Variance구하는 공식은 다음과 같습니다.\n",
    "\n",
    "$$ Var[X] = p(1-p) $$\n",
    "\n",
    "아래의 예제에서는 80%이상이 0 또는 1이 지속되는 데이터를 삭제를 합니다."
   ]
  },
  {
   "cell_type": "code",
   "execution_count": 170,
   "metadata": {
    "collapsed": false,
    "deletable": true,
    "editable": true
   },
   "outputs": [
    {
     "name": "stdout",
     "output_type": "stream",
     "text": [
      "[0]:0.14 \n",
      "[1]:0.22 \n",
      "[2]:0.25\n"
     ]
    },
    {
     "data": {
      "text/plain": [
       "array([[0, 1],\n",
       "       [1, 0],\n",
       "       [0, 0],\n",
       "       [1, 1],\n",
       "       [1, 0],\n",
       "       [1, 1]])"
      ]
     },
     "execution_count": 170,
     "metadata": {},
     "output_type": "execute_result"
    }
   ],
   "source": [
    "def var(data):\n",
    "    return round(np.var(data), 2)\n",
    "\n",
    "# List of Variances\n",
    "data = np.array([[0, 0, 1], \n",
    "                 [0, 1, 0], \n",
    "                 [1, 0, 0], \n",
    "                 [0, 1, 1], \n",
    "                 [0, 1, 0], \n",
    "                 [0, 1, 1]])\n",
    "\n",
    "print('[0]:{0} \\n[1]:{1} \\n[2]:{2}'.format(var(data[:, 0]), var(data[:, 1]), var(data[:, 2])))\n",
    "\n",
    "valsel = VarianceThreshold(threshold=0.8 * (1-0.8))  # 0.8 * (1-0.8) = 0.15999\n",
    "valsel.fit_transform(data)"
   ]
  },
  {
   "cell_type": "markdown",
   "metadata": {
    "deletable": true,
    "editable": true
   },
   "source": [
    "### Example) Low variance for different variance range\n",
    "\n",
    "Data1 ~ Data3 는 모두 normal distribution을 따르지만, Data1의 경우 0에 매우 가까우며, Data2의 경우 값 자체가 높습니다.<br>\n",
    "Data1은 Variance Threshold 기준으로 variance값 자체가 작기때문에 feature selection에서 탈락하게 됩니다.\n",
    "\n",
    "고루고루 값이 분포되어 있지만 variance값이 작아서 탈락이 된다면 Standardization 또는 MinMaxScaling을 해줍니다.<br>\n",
    "[Normalization before low variance](http://www.kdnuggets.com/2015/05/7-methods-data-dimensionality-reduction.html) 를 참고 합니다.\n",
    "\n",
    "> variance is range dependent; therefore normalization is required before applying this technique\n",
    "\n",
    "**아래에서는 각 데이터의 variance값의 평균을 구한뒤 20% 보다 적은 variance값을 갖은 데이터를 제거합니다.**"
   ]
  },
  {
   "cell_type": "code",
   "execution_count": 234,
   "metadata": {
    "collapsed": false,
    "deletable": true,
    "editable": true
   },
   "outputs": [
    {
     "name": "stdout",
     "output_type": "stream",
     "text": [
      "[Before Scaling]\n",
      "Data1 Variance: 0.0001\n",
      "Data2 Variance: 403.1223\n",
      "Data3 Variance: 0.996\n",
      "Data4 Variance: 0.002\n",
      "\n",
      "[After Scaling]\n",
      "Data1 Variance: 0.01315\n",
      "Data2 Variance: 0.01556\n",
      "Data3 Variance: 0.01388\n",
      "Data4 Variance: 0.002\n",
      "\n",
      "Thresold: 0.00222891870716\n"
     ]
    },
    {
     "data": {
      "text/plain": [
       "array([[ 0.43043046,  0.3634528 ,  0.40977524],\n",
       "       [ 0.5702359 ,  0.4049609 ,  0.42229292],\n",
       "       [ 0.57210535,  0.53095295,  0.566753  ],\n",
       "       ..., \n",
       "       [ 0.51042491,  0.298668  ,  0.53970593],\n",
       "       [ 0.56976632,  0.60402107,  0.43984602],\n",
       "       [ 0.41341096,  0.67872648,  0.39401205]])"
      ]
     },
     "execution_count": 234,
     "metadata": {},
     "output_type": "execute_result"
    }
   ],
   "source": [
    "x = np.random.normal(0, size=(50000, 4))\n",
    "x[:, 0] /= 100\n",
    "x[:, 1] += 10\n",
    "x[:, 1] **= 2\n",
    "x[:, 3] = 0\n",
    "x[0:100, 3] = 1\n",
    "\n",
    "print('[Before Scaling]')\n",
    "print('Data1 Variance:', round(np.var(x[:, 0]), 5))\n",
    "print('Data2 Variance:', round(np.var(x[:, 1]), 4))\n",
    "print('Data3 Variance:', round(np.var(x[:, 2]), 4))\n",
    "print('Data4 Variance:', round(np.var(x[:, 3]), 4))\n",
    "\n",
    "x = MinMaxScaler().fit_transform(x)\n",
    "\n",
    "print('\\n[After Scaling]')\n",
    "print('Data1 Variance:', round(np.var(x[:, 0]), 5))\n",
    "print('Data2 Variance:', round(np.var(x[:, 1]), 5))\n",
    "print('Data3 Variance:', round(np.var(x[:, 2]), 5))\n",
    "print('Data4 Variance:', round(np.var(x[:, 3]), 5))\n",
    "\n",
    "threshold = np.mean([np.var(x[:, i]) for i in range(4)]) *0.2\n",
    "\n",
    "print('\\nThresold:', threshold)\n",
    "low_variance_feature_selection(x, threshold=threshold)"
   ]
  },
  {
   "cell_type": "markdown",
   "metadata": {
    "deletable": true,
    "editable": true
   },
   "source": [
    "# Chi Sqaure Test\n",
    "\n",
    "Chi sqaure test는 일반적으로 두가지 상황에서 사용이 될 수 있습니다. <br>\n",
    "첫번째로는 Goodness-of-fit test(적합도 검정)로서 관측된 데이터가 예측한 분포를 따르는지 검정하는 방법입니다. <br>\n",
    "\n",
    "\n",
    "$$ \\chi^2_c = \\sum \\frac{ (O_i - E_i)^2 }{E_i} $$\n",
    "\n",
    "* subscript $ c $ : **the degree of freedom** \n",
    "* $ O $ : observed value (관측값) \n",
    "* $ E $ : expected value \n",
    "\n",
    "Chi square는 observed value와 expected value사이가 얼마나 다른지를 타나내며, **categorical variables** 에서 사용됩니다.<br>\n",
    "Chi square는 몇가지 variations들이 존재하며, 데이터 그리고 hypothesis에 따라서 적용이 달라집니다.\n",
    "\n",
    "계산된 결과값이 낮으면 2개의 데이터셋 사이에는 높은 <span style=\"color:red\">연관성</span>이 존재하며, <br>\n",
    "observed value와 expected value가 서로 완전히 <span style=\"color:red\">동일</span>하다면 (no difference) chi-square의 <span style=\"color:red\">값은 0</span>이 됩니다. "
   ]
  },
  {
   "cell_type": "code",
   "execution_count": 356,
   "metadata": {
    "collapsed": false,
    "deletable": true,
    "editable": true
   },
   "outputs": [
    {
     "data": {
      "text/html": [
       "<div>\n",
       "<style>\n",
       "    .dataframe thead tr:only-child th {\n",
       "        text-align: right;\n",
       "    }\n",
       "\n",
       "    .dataframe thead th {\n",
       "        text-align: left;\n",
       "    }\n",
       "\n",
       "    .dataframe tbody tr th {\n",
       "        vertical-align: top;\n",
       "    }\n",
       "</style>\n",
       "<table border=\"1\" class=\"dataframe\">\n",
       "  <thead>\n",
       "    <tr style=\"text-align: right;\">\n",
       "      <th></th>\n",
       "      <th>black</th>\n",
       "      <th>red</th>\n",
       "    </tr>\n",
       "  </thead>\n",
       "  <tbody>\n",
       "    <tr>\n",
       "      <th>1</th>\n",
       "      <td>9</td>\n",
       "      <td>6</td>\n",
       "    </tr>\n",
       "    <tr>\n",
       "      <th>2</th>\n",
       "      <td>10</td>\n",
       "      <td>5</td>\n",
       "    </tr>\n",
       "    <tr>\n",
       "      <th>3</th>\n",
       "      <td>12</td>\n",
       "      <td>14</td>\n",
       "    </tr>\n",
       "    <tr>\n",
       "      <th>4</th>\n",
       "      <td>11</td>\n",
       "      <td>15</td>\n",
       "    </tr>\n",
       "    <tr>\n",
       "      <th>5</th>\n",
       "      <td>8</td>\n",
       "      <td>11</td>\n",
       "    </tr>\n",
       "    <tr>\n",
       "      <th>6</th>\n",
       "      <td>10</td>\n",
       "      <td>9</td>\n",
       "    </tr>\n",
       "  </tbody>\n",
       "</table>\n",
       "</div>"
      ],
      "text/plain": [
       "   black  red\n",
       "1      9    6\n",
       "2     10    5\n",
       "3     12   14\n",
       "4     11   15\n",
       "5      8   11\n",
       "6     10    9"
      ]
     },
     "metadata": {},
     "output_type": "display_data"
    },
    {
     "name": "stdout",
     "output_type": "stream",
     "text": [
      "[Black]\tX-squared: 0.0 \tp-value: 1.0\n",
      "[Red]\tX-squared: 8.4 \tp-value: 0.1355\n",
      "6.51287878788\n"
     ]
    }
   ],
   "source": [
    "# Data\n",
    "data = pd.DataFrame({'black': [9, 10, 12, 11, 8, 10], \n",
    "                     'red': [6, 5, 14, 15, 11, 9]}, \n",
    "                     index=range(1, 7))\n",
    "display(data)\n",
    "black = data.black.values\n",
    "red = data.red.values\n",
    "\n",
    "def my_chisquare(obs, exp):\n",
    "    return np.sum((obs - exp)**2/exp)\n",
    "\n",
    "# Calculate Chi-Square\n",
    "chi_value, p_value = chisquare(black, black)\n",
    "print('[Black]\\tX-squared:', chi_value, '\\tp-value:', round(p_value, 4))\n",
    "\n",
    "chi_value, p_value = chisquare(red)\n",
    "print('[Red]\\tX-squared:', chi_value, '\\tp-value:', round(p_value, 4))\n",
    "\n",
    "print( my_chisquare(red, black))"
   ]
  },
  {
   "cell_type": "code",
   "execution_count": 341,
   "metadata": {
    "collapsed": false,
    "deletable": true,
    "editable": true
   },
   "outputs": [
    {
     "data": {
      "text/plain": [
       "(array([ 1.]), array([ 0.96256577]))"
      ]
     },
     "execution_count": 341,
     "metadata": {},
     "output_type": "execute_result"
    }
   ],
   "source": [
    "black = black\n",
    "red = red\n",
    "\n",
    "chi2(black.reshape(-1, 1), red)"
   ]
  },
  {
   "cell_type": "markdown",
   "metadata": {
    "deletable": true,
    "editable": true
   },
   "source": [
    "# T-Test"
   ]
  },
  {
   "cell_type": "code",
   "execution_count": null,
   "metadata": {
    "collapsed": true,
    "deletable": true,
    "editable": true
   },
   "outputs": [],
   "source": []
  }
 ],
 "metadata": {
  "kernelspec": {
   "display_name": "Python 3",
   "language": "python",
   "name": "python3"
  },
  "language_info": {
   "codemirror_mode": {
    "name": "ipython",
    "version": 3
   },
   "file_extension": ".py",
   "mimetype": "text/x-python",
   "name": "python",
   "nbconvert_exporter": "python",
   "pygments_lexer": "ipython3",
   "version": "3.6.1"
  }
 },
 "nbformat": 4,
 "nbformat_minor": 2
}
